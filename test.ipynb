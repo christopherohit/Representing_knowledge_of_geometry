{
 "cells": [
  {
   "cell_type": "code",
   "execution_count": 1,
   "metadata": {},
   "outputs": [],
   "source": [
    "import pandas as pd\n",
    "import numpy as np\n",
    "import matplotlib.pyplot as plt\n",
    "import seaborn as sns\n",
    "from functools import reduce\n"
   ]
  },
  {
   "cell_type": "code",
   "execution_count": 2,
   "metadata": {},
   "outputs": [],
   "source": [
    "simple_test = \"Cho tam giác ABC có đoạn AB = 3cm, đoạn BC = 5cm, đoạn AC = 4cm. AH là đường cao của tam giác ABC (hạ từ đỉnh A), biết rằng AH = 4cm. Tính: Chu vi và diện tích tam giác ABC.\""
   ]
  },
  {
   "cell_type": "code",
   "execution_count": 3,
   "metadata": {},
   "outputs": [],
   "source": [
    "simple_test = simple_test.replace('\\n', '. ')"
   ]
  },
  {
   "cell_type": "code",
   "execution_count": 4,
   "metadata": {},
   "outputs": [],
   "source": [
    "import nltk\n",
    "sentences = nltk.sent_tokenize(simple_test)"
   ]
  },
  {
   "cell_type": "code",
   "execution_count": 5,
   "metadata": {},
   "outputs": [
    {
     "data": {
      "text/plain": [
       "['Cho tam giác ABC có đoạn AB = 3cm, đoạn BC = 5cm, đoạn AC = 4cm.',\n",
       " 'AH là đường cao của tam giác ABC (hạ từ đỉnh A), biết rằng AH = 4cm.',\n",
       " 'Tính: Chu vi và diện tích tam giác ABC.']"
      ]
     },
     "execution_count": 5,
     "metadata": {},
     "output_type": "execute_result"
    }
   ],
   "source": [
    "sentences"
   ]
  },
  {
   "cell_type": "code",
   "execution_count": 6,
   "metadata": {},
   "outputs": [
    {
     "data": {
      "text/plain": [
       "[['Cho',\n",
       "  'tam',\n",
       "  'giác',\n",
       "  'ABC',\n",
       "  'có',\n",
       "  'đoạn',\n",
       "  'AB',\n",
       "  '=',\n",
       "  '3cm,',\n",
       "  'đoạn',\n",
       "  'BC',\n",
       "  '=',\n",
       "  '5cm,',\n",
       "  'đoạn',\n",
       "  'AC',\n",
       "  '=',\n",
       "  '4cm.'],\n",
       " ['AH',\n",
       "  'là',\n",
       "  'đường',\n",
       "  'cao',\n",
       "  'của',\n",
       "  'tam',\n",
       "  'giác',\n",
       "  'ABC',\n",
       "  '(hạ',\n",
       "  'từ',\n",
       "  'đỉnh',\n",
       "  'A),',\n",
       "  'biết',\n",
       "  'rằng',\n",
       "  'AH',\n",
       "  '=',\n",
       "  '4cm.'],\n",
       " ['Tính:', 'Chu', 'vi', 'và', 'diện', 'tích', 'tam', 'giác', 'ABC.']]"
      ]
     },
     "execution_count": 6,
     "metadata": {},
     "output_type": "execute_result"
    }
   ],
   "source": [
    "fullNameArray = []\n",
    "for i in sentences:\n",
    "    i = i.split()\n",
    "    fullNameArray.append(i)\n",
    "fullNameArray"
   ]
  },
  {
   "cell_type": "code",
   "execution_count": 7,
   "metadata": {},
   "outputs": [
    {
     "data": {
      "text/plain": [
       "[(0, 'diện'),\n",
       " (1, '='),\n",
       " (2, 'Cho'),\n",
       " (3, 'AB'),\n",
       " (4, 'ABC.'),\n",
       " (5, 'A),'),\n",
       " (6, 'biết'),\n",
       " (7, '5cm,'),\n",
       " (8, 'BC'),\n",
       " (9, 'đường'),\n",
       " (10, 'rằng'),\n",
       " (11, 'giác'),\n",
       " (12, 'là'),\n",
       " (13, 'vi'),\n",
       " (14, 'từ'),\n",
       " (15, '4cm.'),\n",
       " (16, '(hạ'),\n",
       " (17, 'Chu'),\n",
       " (18, 'đỉnh'),\n",
       " (19, 'AC'),\n",
       " (20, 'tam'),\n",
       " (21, 'AH'),\n",
       " (22, 'Tính:'),\n",
       " (23, 'tích'),\n",
       " (24, 'của'),\n",
       " (25, 'và'),\n",
       " (26, 'có'),\n",
       " (27, '3cm,'),\n",
       " (28, 'đoạn'),\n",
       " (29, 'ABC'),\n",
       " (30, 'cao')]"
      ]
     },
     "execution_count": 7,
     "metadata": {},
     "output_type": "execute_result"
    }
   ],
   "source": [
    "dictionary = list(enumerate(set(reduce(lambda x ,y: x + y, fullNameArray))))\n",
    "dictionary"
   ]
  },
  {
   "cell_type": "code",
   "execution_count": 8,
   "metadata": {},
   "outputs": [
    {
     "name": "stdout",
     "output_type": "stream",
     "text": [
      "[0. 3. 1. 1. 0. 0. 0. 1. 1. 0. 0. 1. 0. 0. 0. 1. 0. 0. 0. 1. 1. 0. 0. 0.\n",
      " 0. 0. 1. 1. 3. 1. 0.]\n",
      "[0. 1. 0. 0. 0. 1. 1. 0. 0. 1. 1. 1. 1. 0. 1. 1. 1. 0. 1. 0. 1. 2. 0. 0.\n",
      " 1. 0. 0. 0. 0. 1. 1.]\n",
      "[1. 0. 0. 0. 1. 0. 0. 0. 0. 0. 0. 1. 0. 1. 0. 0. 0. 1. 0. 0. 1. 0. 1. 1.\n",
      " 0. 1. 0. 0. 0. 0. 0.]\n"
     ]
    }
   ],
   "source": [
    "def bag_of_word(sentences):\n",
    "    \n",
    "    # Create a vector which have a len equal dict\n",
    "    vector = np.zeros(len(dictionary))\n",
    "\n",
    "    for i ,word in dictionary:\n",
    "        count = 0\n",
    "        for w in sentences:\n",
    "            if w == word:\n",
    "                count += 1\n",
    "        vector[i] = count\n",
    "    return vector\n",
    "\n",
    "for i in fullNameArray:\n",
    "    print(bag_of_word(i))\n",
    "    "
   ]
  },
  {
   "cell_type": "code",
   "execution_count": 11,
   "metadata": {},
   "outputs": [
    {
     "data": {
      "text/plain": [
       "{'you': 3, 'have': 1, 'no': 2, 'dog': 0}"
      ]
     },
     "execution_count": 11,
     "metadata": {},
     "output_type": "execute_result"
    }
   ],
   "source": [
    "from sklearn.feature_extraction.text import CountVectorizer\n",
    "vect = CountVectorizer(ngram_range= (1,1))\n",
    "vect.fit_transform(['you have a no dog','no you have a dog ']).toarray()\n",
    "vect.vocabulary_ "
   ]
  },
  {
   "cell_type": "code",
   "execution_count": 14,
   "metadata": {},
   "outputs": [
    {
     "data": {
      "text/plain": [
       "{'you': 7,\n",
       " 'have': 1,\n",
       " 'no': 4,\n",
       " 'dog': 0,\n",
       " 'you have': 8,\n",
       " 'have no': 3,\n",
       " 'no dog': 5,\n",
       " 'no you': 6,\n",
       " 'have dog': 2}"
      ]
     },
     "execution_count": 14,
     "metadata": {},
     "output_type": "execute_result"
    }
   ],
   "source": [
    "vect = CountVectorizer(ngram_range = (1, 2))\n",
    "vect.fit_transform(['you have no dog', 'no, you have dog']).toarray()\n",
    "vect.vocabulary_"
   ]
  },
  {
   "cell_type": "code",
   "execution_count": 15,
   "metadata": {},
   "outputs": [
    {
     "ename": "NameError",
     "evalue": "name 'euclidean' is not defined",
     "output_type": "error",
     "traceback": [
      "\u001b[0;31m---------------------------------------------------------------------------\u001b[0m",
      "\u001b[0;31mNameError\u001b[0m                                 Traceback (most recent call last)",
      "\u001b[0;32m/var/folders/lr/f0tg_7592nlc7h7_v_b1_1vm0000gn/T/ipykernel_1428/3304718381.py\u001b[0m in \u001b[0;36m<module>\u001b[0;34m\u001b[0m\n\u001b[1;32m      1\u001b[0m \u001b[0mvect\u001b[0m \u001b[0;34m=\u001b[0m \u001b[0mCountVectorizer\u001b[0m\u001b[0;34m(\u001b[0m\u001b[0mngram_range\u001b[0m \u001b[0;34m=\u001b[0m \u001b[0;34m(\u001b[0m\u001b[0;36m3\u001b[0m\u001b[0;34m,\u001b[0m \u001b[0;36m3\u001b[0m\u001b[0;34m)\u001b[0m\u001b[0;34m,\u001b[0m \u001b[0manalyzer\u001b[0m \u001b[0;34m=\u001b[0m \u001b[0;34m'char_wb'\u001b[0m\u001b[0;34m)\u001b[0m\u001b[0;34m\u001b[0m\u001b[0;34m\u001b[0m\u001b[0m\n\u001b[1;32m      2\u001b[0m \u001b[0mn1\u001b[0m\u001b[0;34m,\u001b[0m \u001b[0mn2\u001b[0m\u001b[0;34m,\u001b[0m \u001b[0mn3\u001b[0m\u001b[0;34m,\u001b[0m \u001b[0mn4\u001b[0m \u001b[0;34m=\u001b[0m \u001b[0mvect\u001b[0m\u001b[0;34m.\u001b[0m\u001b[0mfit_transform\u001b[0m\u001b[0;34m(\u001b[0m\u001b[0;34m[\u001b[0m\u001b[0;34m'andersen'\u001b[0m\u001b[0;34m,\u001b[0m \u001b[0;34m'peterson'\u001b[0m\u001b[0;34m,\u001b[0m \u001b[0;34m'petrov'\u001b[0m\u001b[0;34m,\u001b[0m \u001b[0;34m'smith'\u001b[0m\u001b[0;34m]\u001b[0m\u001b[0;34m)\u001b[0m\u001b[0;34m.\u001b[0m\u001b[0mtoarray\u001b[0m\u001b[0;34m(\u001b[0m\u001b[0;34m)\u001b[0m\u001b[0;34m\u001b[0m\u001b[0;34m\u001b[0m\u001b[0m\n\u001b[0;32m----> 3\u001b[0;31m \u001b[0meuclidean\u001b[0m\u001b[0;34m(\u001b[0m\u001b[0mn1\u001b[0m\u001b[0;34m,\u001b[0m \u001b[0mn2\u001b[0m\u001b[0;34m)\u001b[0m\u001b[0;34m,\u001b[0m \u001b[0meuclidean\u001b[0m\u001b[0;34m(\u001b[0m\u001b[0mn2\u001b[0m\u001b[0;34m,\u001b[0m \u001b[0mn3\u001b[0m\u001b[0;34m)\u001b[0m\u001b[0;34m,\u001b[0m \u001b[0meuclidean\u001b[0m\u001b[0;34m(\u001b[0m\u001b[0mn3\u001b[0m\u001b[0;34m,\u001b[0m \u001b[0mn4\u001b[0m\u001b[0;34m)\u001b[0m\u001b[0;34m\u001b[0m\u001b[0;34m\u001b[0m\u001b[0m\n\u001b[0m",
      "\u001b[0;31mNameError\u001b[0m: name 'euclidean' is not defined"
     ]
    }
   ],
   "source": [
    "\n",
    "vect = CountVectorizer(ngram_range = (3, 3), analyzer = 'char_wb')\n",
    "n1, n2, n3, n4 = vect.fit_transform(['andersen', 'peterson', 'petrov', 'smith']).toarray()\n",
    "euclidean(n1, n2), euclidean(n2, n3), euclidean(n3, n4)"
   ]
  }
 ],
 "metadata": {
  "interpreter": {
   "hash": "aee8b7b246df8f9039afb4144a1f6fd8d2ca17a180786b69acc140d282b71a49"
  },
  "kernelspec": {
   "display_name": "Python 3.9.9 64-bit",
   "language": "python",
   "name": "python3"
  },
  "language_info": {
   "codemirror_mode": {
    "name": "ipython",
    "version": 3
   },
   "file_extension": ".py",
   "mimetype": "text/x-python",
   "name": "python",
   "nbconvert_exporter": "python",
   "pygments_lexer": "ipython3",
   "version": "3.9.9"
  },
  "orig_nbformat": 4
 },
 "nbformat": 4,
 "nbformat_minor": 2
}
