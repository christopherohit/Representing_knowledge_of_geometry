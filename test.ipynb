{
 "cells": [
  {
   "cell_type": "code",
   "execution_count": 1,
   "metadata": {},
   "outputs": [],
   "source": [
    "import pandas as pd\n",
    "import numpy as np\n",
    "import matplotlib.pyplot as plt\n",
    "import seaborn as sns\n",
    "from functools import reduce\n"
   ]
  },
  {
   "cell_type": "code",
   "execution_count": 2,
   "metadata": {},
   "outputs": [],
   "source": [
    "simple_test = \"Cho tam giác ABC có đoạn AB = 3cm, đoạn BC = 5cm, đoạn AC = 4cm. AH là đường cao của tam giác ABC (hạ từ đỉnh A), biết rằng AH = 4cm. Tính: Chu vi và diện tích tam giác ABC.\""
   ]
  },
  {
   "cell_type": "code",
   "execution_count": 3,
   "metadata": {},
   "outputs": [],
   "source": [
    "simple_test = simple_test.replace('\\n', '. ')"
   ]
  },
  {
   "cell_type": "code",
   "execution_count": 4,
   "metadata": {},
   "outputs": [],
   "source": [
    "import nltk\n",
    "sentences = nltk.sent_tokenize(simple_test)"
   ]
  },
  {
   "cell_type": "code",
   "execution_count": 5,
   "metadata": {},
   "outputs": [
    {
     "data": {
      "text/plain": [
       "['Cho tam giác ABC có đoạn AB = 3cm, đoạn BC = 5cm, đoạn AC = 4cm.',\n",
       " 'AH là đường cao của tam giác ABC (hạ từ đỉnh A), biết rằng AH = 4cm.',\n",
       " 'Tính: Chu vi và diện tích tam giác ABC.']"
      ]
     },
     "execution_count": 5,
     "metadata": {},
     "output_type": "execute_result"
    }
   ],
   "source": [
    "sentences"
   ]
  },
  {
   "cell_type": "code",
   "execution_count": 6,
   "metadata": {},
   "outputs": [
    {
     "data": {
      "text/plain": [
       "'Cho tam giác ABC có đoạn AB = 3cm, đoạn BC = 5cm, đoạn AC = 4cm.'"
      ]
     },
     "execution_count": 6,
     "metadata": {},
     "output_type": "execute_result"
    }
   ],
   "source": [
    "sentences[0]"
   ]
  },
  {
   "cell_type": "code",
   "execution_count": 7,
   "metadata": {},
   "outputs": [
    {
     "data": {
      "text/plain": [
       "'AH là đường cao của tam giác ABC (hạ từ đỉnh A), biết rằng AH = 4cm.'"
      ]
     },
     "execution_count": 7,
     "metadata": {},
     "output_type": "execute_result"
    }
   ],
   "source": [
    "sentences[1]"
   ]
  },
  {
   "cell_type": "code",
   "execution_count": 9,
   "metadata": {},
   "outputs": [
    {
     "data": {
      "text/plain": [
       "'Tính: Chu vi và diện tích tam giác ABC.'"
      ]
     },
     "execution_count": 9,
     "metadata": {},
     "output_type": "execute_result"
    }
   ],
   "source": [
    "sentences[2]"
   ]
  },
  {
   "cell_type": "code",
   "execution_count": 11,
   "metadata": {},
   "outputs": [
    {
     "data": {
      "text/plain": [
       "'Tính: Chu vi và diện tích tam giác ABC.'"
      ]
     },
     "execution_count": 11,
     "metadata": {},
     "output_type": "execute_result"
    }
   ],
   "source": [
    "sentences[-1]"
   ]
  },
  {
   "cell_type": "code",
   "execution_count": 14,
   "metadata": {},
   "outputs": [
    {
     "name": "stdout",
     "output_type": "stream",
     "text": [
      "Gia Thuyet: \n",
      "Gia Thuyet: \n"
     ]
    }
   ],
   "source": [
    "for i in range(len(sentences)):\n",
    "    if sentences[i] != sentences[-1]:\n",
    "        print(\"Gia Thuyet: \")\n",
    "        "
   ]
  },
  {
   "cell_type": "code",
   "execution_count": 9,
   "metadata": {},
   "outputs": [
    {
     "data": {
      "text/plain": [
       "[['Cho',\n",
       "  'tam',\n",
       "  'giác',\n",
       "  'ABC',\n",
       "  'có',\n",
       "  'đoạn',\n",
       "  'AB',\n",
       "  '=',\n",
       "  '3cm,',\n",
       "  'đoạn',\n",
       "  'BC',\n",
       "  '=',\n",
       "  '5cm,',\n",
       "  'đoạn',\n",
       "  'AC',\n",
       "  '=',\n",
       "  '4cm.'],\n",
       " ['AH',\n",
       "  'là',\n",
       "  'đường',\n",
       "  'cao',\n",
       "  'của',\n",
       "  'tam',\n",
       "  'giác',\n",
       "  'ABC',\n",
       "  '(hạ',\n",
       "  'từ',\n",
       "  'đỉnh',\n",
       "  'A),',\n",
       "  'biết',\n",
       "  'rằng',\n",
       "  'AH',\n",
       "  '=',\n",
       "  '4cm.'],\n",
       " ['Tính:', 'Chu', 'vi', 'và', 'diện', 'tích', 'tam', 'giác', 'ABC.']]"
      ]
     },
     "execution_count": 9,
     "metadata": {},
     "output_type": "execute_result"
    }
   ],
   "source": [
    "fullNameArray = []\n",
    "for i in sentences:\n",
    "    i = i.split()\n",
    "    fullNameArray.append(i)\n",
    "fullNameArray"
   ]
  },
  {
   "cell_type": "code",
   "execution_count": 11,
   "metadata": {},
   "outputs": [
    {
     "data": {
      "text/plain": [
       "['Cho',\n",
       " 'tam',\n",
       " 'giác',\n",
       " 'ABC',\n",
       " 'có',\n",
       " 'đoạn',\n",
       " 'AB',\n",
       " '=',\n",
       " '3cm,',\n",
       " 'đoạn',\n",
       " 'BC',\n",
       " '=',\n",
       " '5cm,',\n",
       " 'đoạn',\n",
       " 'AC',\n",
       " '=',\n",
       " '4cm.']"
      ]
     },
     "execution_count": 11,
     "metadata": {},
     "output_type": "execute_result"
    }
   ],
   "source": [
    "fullNameArray[0]"
   ]
  },
  {
   "cell_type": "code",
   "execution_count": null,
   "metadata": {},
   "outputs": [],
   "source": [
    "fullNameArray[1]"
   ]
  },
  {
   "cell_type": "code",
   "execution_count": null,
   "metadata": {},
   "outputs": [],
   "source": [
    "fullNameArray[2]"
   ]
  },
  {
   "cell_type": "code",
   "execution_count": 10,
   "metadata": {},
   "outputs": [
    {
     "data": {
      "text/plain": [
       "[(0, '='),\n",
       " (1, 'vi'),\n",
       " (2, 'từ'),\n",
       " (3, '5cm,'),\n",
       " (4, 'AC'),\n",
       " (5, 'là'),\n",
       " (6, 'A),'),\n",
       " (7, '(hạ'),\n",
       " (8, 'và'),\n",
       " (9, '4cm.'),\n",
       " (10, 'Tính:'),\n",
       " (11, 'BC'),\n",
       " (12, 'Cho'),\n",
       " (13, 'cao'),\n",
       " (14, 'ABC.'),\n",
       " (15, 'AB'),\n",
       " (16, 'đỉnh'),\n",
       " (17, 'đoạn'),\n",
       " (18, 'AH'),\n",
       " (19, '3cm,'),\n",
       " (20, 'tam'),\n",
       " (21, 'tích'),\n",
       " (22, 'có'),\n",
       " (23, 'của'),\n",
       " (24, 'giác'),\n",
       " (25, 'đường'),\n",
       " (26, 'Chu'),\n",
       " (27, 'diện'),\n",
       " (28, 'ABC'),\n",
       " (29, 'rằng'),\n",
       " (30, 'biết')]"
      ]
     },
     "execution_count": 10,
     "metadata": {},
     "output_type": "execute_result"
    }
   ],
   "source": [
    "dictionary = list(enumerate(set(reduce(lambda x ,y: x + y, fullNameArray))))\n",
    "dictionary"
   ]
  },
  {
   "cell_type": "code",
   "execution_count": 8,
   "metadata": {},
   "outputs": [
    {
     "name": "stdout",
     "output_type": "stream",
     "text": [
      "[0. 3. 1. 1. 0. 0. 0. 1. 1. 0. 0. 1. 0. 0. 0. 1. 0. 0. 0. 1. 1. 0. 0. 0.\n",
      " 0. 0. 1. 1. 3. 1. 0.]\n",
      "[0. 1. 0. 0. 0. 1. 1. 0. 0. 1. 1. 1. 1. 0. 1. 1. 1. 0. 1. 0. 1. 2. 0. 0.\n",
      " 1. 0. 0. 0. 0. 1. 1.]\n",
      "[1. 0. 0. 0. 1. 0. 0. 0. 0. 0. 0. 1. 0. 1. 0. 0. 0. 1. 0. 0. 1. 0. 1. 1.\n",
      " 0. 1. 0. 0. 0. 0. 0.]\n"
     ]
    }
   ],
   "source": [
    "def bag_of_word(sentences):\n",
    "    \n",
    "    # Create a vector which have a len equal dict\n",
    "    vector = np.zeros(len(dictionary))\n",
    "\n",
    "    for i ,word in dictionary:\n",
    "        count = 0\n",
    "        for w in sentences:\n",
    "            if w == word:\n",
    "                count += 1\n",
    "        vector[i] = count\n",
    "    return vector\n",
    "\n",
    "for i in fullNameArray:\n",
    "    print(bag_of_word(i))\n",
    "    "
   ]
  },
  {
   "cell_type": "code",
   "execution_count": null,
   "metadata": {},
   "outputs": [],
   "source": [
    "fullNameArray"
   ]
  }
 ],
 "metadata": {
  "interpreter": {
   "hash": "aee8b7b246df8f9039afb4144a1f6fd8d2ca17a180786b69acc140d282b71a49"
  },
  "kernelspec": {
   "display_name": "Python 3.9.9 64-bit",
   "language": "python",
   "name": "python3"
  },
  "language_info": {
   "codemirror_mode": {
    "name": "ipython",
    "version": 3
   },
   "file_extension": ".py",
   "mimetype": "text/x-python",
   "name": "python",
   "nbconvert_exporter": "python",
   "pygments_lexer": "ipython3",
   "version": "3.9.0"
  },
  "orig_nbformat": 4
 },
 "nbformat": 4,
 "nbformat_minor": 2
}
