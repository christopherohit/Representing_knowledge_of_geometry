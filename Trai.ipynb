{
 "cells": [
  {
   "cell_type": "code",
   "execution_count": 1,
   "metadata": {},
   "outputs": [],
   "source": [
    "import logging\n",
    "from vncorenlp import VnCoreNLP"
   ]
  },
  {
   "cell_type": "code",
   "execution_count": 2,
   "metadata": {},
   "outputs": [
    {
     "name": "stdout",
     "output_type": "stream",
     "text": [
      "TK:  [['Cho', 'tứ_giác', 'ABCD', 'có', 'độ', 'dài', 'lần_lượt', 'là', ':', 'AB', '=', '3', 'BC', '=', '4', 'CD', '=', '5', 'chu_vi', 'tứ', 'giắc', 'ABCD', '=', '15', '.'], ['Tính', 'đoạn_thẳng', 'AD']]\n",
      "Pos Tag:  [[('Cho', 'E'), ('tứ_giác', 'N'), ('ABCD', 'Ny'), ('có', 'V'), ('độ', 'N'), ('dài', 'A'), ('lần_lượt', 'R'), ('là', 'V'), (':', 'CH'), ('AB', 'Ny'), ('=', 'CH'), ('3', 'M'), ('BC', 'Ny'), ('=', 'CH'), ('4', 'M'), ('CD', 'Ny'), ('=', 'CH'), ('5', 'M'), ('chu_vi', 'N'), ('tứ', 'N'), ('giắc', 'N'), ('ABCD', 'Ny'), ('=', 'CH'), ('15', 'M'), ('.', 'CH')], [('Tính', 'N'), ('đoạn_thẳng', 'A'), ('AD', 'Np')]]\n",
      "Named-Entity Recognizing:  [[('Cho', 'O'), ('tứ_giác', 'O'), ('ABCD', 'O'), ('có', 'O'), ('độ', 'O'), ('dài', 'O'), ('lần_lượt', 'O'), ('là', 'O'), (':', 'O'), ('AB', 'O'), ('=', 'O'), ('3', 'O'), ('BC', 'O'), ('=', 'O'), ('4', 'O'), ('CD', 'O'), ('=', 'O'), ('5', 'O'), ('chu_vi', 'O'), ('tứ', 'O'), ('giắc', 'O'), ('ABCD', 'O'), ('=', 'O'), ('15', 'O'), ('.', 'O')], [('Tính', 'O'), ('đoạn_thẳng', 'O'), ('AD', 'O')]]\n",
      "Anounating:  {'sentences': [[{'index': 1, 'form': 'Cho', 'posTag': 'E', 'nerLabel': 'O', 'head': 8, 'depLabel': 'tmp'}, {'index': 2, 'form': 'tứ_giác', 'posTag': 'N', 'nerLabel': 'O', 'head': 1, 'depLabel': 'pob'}, {'index': 3, 'form': 'ABCD', 'posTag': 'Ny', 'nerLabel': 'O', 'head': 2, 'depLabel': 'nmod'}, {'index': 4, 'form': 'có', 'posTag': 'V', 'nerLabel': 'O', 'head': 1, 'depLabel': 'vmod'}, {'index': 5, 'form': 'độ', 'posTag': 'N', 'nerLabel': 'O', 'head': 4, 'depLabel': 'dob'}, {'index': 6, 'form': 'dài', 'posTag': 'A', 'nerLabel': 'O', 'head': 5, 'depLabel': 'nmod'}, {'index': 7, 'form': 'lần_lượt', 'posTag': 'R', 'nerLabel': 'O', 'head': 8, 'depLabel': 'adv'}, {'index': 8, 'form': 'là', 'posTag': 'V', 'nerLabel': 'O', 'head': 0, 'depLabel': 'root'}, {'index': 9, 'form': ':', 'posTag': 'CH', 'nerLabel': 'O', 'head': 8, 'depLabel': 'punct'}, {'index': 10, 'form': 'AB', 'posTag': 'Ny', 'nerLabel': 'O', 'head': 5, 'depLabel': 'nmod'}, {'index': 11, 'form': '=', 'posTag': 'CH', 'nerLabel': 'O', 'head': 10, 'depLabel': 'punct'}, {'index': 12, 'form': '3', 'posTag': 'M', 'nerLabel': 'O', 'head': 13, 'depLabel': 'det'}, {'index': 13, 'form': 'BC', 'posTag': 'Ny', 'nerLabel': 'O', 'head': 10, 'depLabel': 'nmod'}, {'index': 14, 'form': '=', 'posTag': 'CH', 'nerLabel': 'O', 'head': 10, 'depLabel': 'punct'}, {'index': 15, 'form': '4', 'posTag': 'M', 'nerLabel': 'O', 'head': 16, 'depLabel': 'det'}, {'index': 16, 'form': 'CD', 'posTag': 'Ny', 'nerLabel': 'O', 'head': 10, 'depLabel': 'nmod'}, {'index': 17, 'form': '=', 'posTag': 'CH', 'nerLabel': 'O', 'head': 10, 'depLabel': 'punct'}, {'index': 18, 'form': '5', 'posTag': 'M', 'nerLabel': 'O', 'head': 19, 'depLabel': 'det'}, {'index': 19, 'form': 'chu_vi', 'posTag': 'N', 'nerLabel': 'O', 'head': 10, 'depLabel': 'nmod'}, {'index': 20, 'form': 'tứ', 'posTag': 'N', 'nerLabel': 'O', 'head': 19, 'depLabel': 'nmod'}, {'index': 21, 'form': 'giắc', 'posTag': 'N', 'nerLabel': 'O', 'head': 20, 'depLabel': 'nmod'}, {'index': 22, 'form': 'ABCD', 'posTag': 'Ny', 'nerLabel': 'O', 'head': 20, 'depLabel': 'nmod'}, {'index': 23, 'form': '=', 'posTag': 'CH', 'nerLabel': 'O', 'head': 20, 'depLabel': 'punct'}, {'index': 24, 'form': '15', 'posTag': 'M', 'nerLabel': 'O', 'head': 20, 'depLabel': 'det'}, {'index': 25, 'form': '.', 'posTag': 'CH', 'nerLabel': 'O', 'head': 8, 'depLabel': 'punct'}], [{'index': 1, 'form': 'Tính', 'posTag': 'N', 'nerLabel': 'O', 'head': 0, 'depLabel': 'root'}, {'index': 2, 'form': 'đoạn_thẳng', 'posTag': 'A', 'nerLabel': 'O', 'head': 1, 'depLabel': 'nmod'}, {'index': 3, 'form': 'AD', 'posTag': 'Np', 'nerLabel': 'O', 'head': 1, 'depLabel': 'nmod'}]]}\n",
      "Language:  vi\n"
     ]
    }
   ],
   "source": [
    "def simple_usage():\n",
    "    \n",
    "    vn_core_file = r'C:\\Users\\Hendrichs\\Desktop\\Representing_knowledge_of_geometry\\VnCoreNLP\\VnCoreNLP-1.1.1.jar'\n",
    "    sentences = '''Cho tứ giác ABCD có độ dài lần lượt là:\n",
    "AB = 3\n",
    "BC = 4\n",
    "CD = 5 \n",
    "chu vi tứ giắc ABCD = 15. Tính đoạn thẳng AD\n",
    "'''\n",
    "    with VnCoreNLP(vn_core_file) as vncorenlp:\n",
    "        print('TK: ', vncorenlp.tokenize(sentences))\n",
    "        print('Pos Tag: ', vncorenlp.pos_tag(sentences))\n",
    "        print('Named-Entity Recognizing: ', vncorenlp.ner(sentences))\n",
    "        print('Anounating: ', vncorenlp.annotate(sentences))\n",
    "        print('Language: ', vncorenlp.detect_language(sentences))\n",
    "\n",
    "simple_usage()"
   ]
  },
  {
   "cell_type": "code",
   "execution_count": 5,
   "metadata": {},
   "outputs": [
    {
     "name": "stdout",
     "output_type": "stream",
     "text": [
      "Tokenizing:  [['Cho', 'hình_vuông', 'ABCD', ',', 'có', 'AB', '=', '5', '.'], ['Tính', 'diện_tích', 'hình_vuông']]\n"
     ]
    }
   ],
   "source": [
    "vn_core_file = r'/Users/hendrichscullen/Desktop/AI_Final/VnCoreNLP/VnCoreNLP-1.1.1.jar'\n",
    "\n",
    "sientences = 'Cho hình vuông ABCD, có AB = 5. Tính diện tích hình vuông'\n",
    "\n",
    "with VnCoreNLP( vn_core_file , annotators= \"wseg\" , max_heap_size='-Xmx4g') as vncorenlp:\n",
    "    print(\"Tokenizing: \", vncorenlp.tokenize(sientences))"
   ]
  },
  {
   "cell_type": "code",
   "execution_count": 6,
   "metadata": {},
   "outputs": [
    {
     "name": "stdout",
     "output_type": "stream",
     "text": [
      "Tokenizing:  [['Cho', 'hình_vuông', 'ABCD', ',', 'có', 'AB', '=', '5', '.'], ['Tính', 'diện_tích', 'hình_vuông']]\n"
     ]
    }
   ],
   "source": [
    "with VnCoreNLP( vn_core_file , annotators= \"wseg\") as vncorenlp:\n",
    "    print(\"Tokenizing: \", vncorenlp.tokenize(sientences))"
   ]
  },
  {
   "cell_type": "code",
   "execution_count": 8,
   "metadata": {},
   "outputs": [
    {
     "name": "stdout",
     "output_type": "stream",
     "text": [
      "2022-01-06 17.37.09 INFO VnCoreNLPServer - Using annotators: wseg\n",
      "2022-01-06 17:37:09 INFO  WordSegmenter:24 - Loading Word Segmentation model\n",
      "2022-01-06 17.37.10 INFO VnCoreNLPServer - VnCoreNLPServer is listening on http://127.0.0.1:54833\n",
      "2022-01-06 17.37.10 INFO log - Logging initialized @663ms to org.eclipse.jetty.util.log.Slf4jLog\n",
      "2022-01-06 17.37.10 INFO EmbeddedJettyServer - == Spark has ignited ...\n",
      "2022-01-06 17.37.10 INFO EmbeddedJettyServer - >> Listening on 127.0.0.1:54833\n",
      "2022-01-06 17.37.10 INFO Server - jetty-9.4.z-SNAPSHOT, build timestamp: 2017-11-22T04:27:37+07:00, git hash: 82b8fb23f757335bb3329d540ce37a2a2615f0a8\n",
      "2022-01-06 17.37.10 INFO session - DefaultSessionIdManager workerName=node0\n",
      "2022-01-06 17.37.10 INFO session - No SessionScavenger set, using defaults\n",
      "2022-01-06 17.37.10 INFO session - Scavenging every 600000ms\n",
      "2022-01-06 17.37.10 INFO AbstractConnector - Started ServerConnector@62e0bf30{HTTP/1.1,[http/1.1]}{127.0.0.1:54833}\n",
      "2022-01-06 17.37.10 INFO Server - Started @800ms\n",
      "Tokenizing:  [['Cho', 'hình_vuông', 'ABCD', ',', 'có', 'AB', '=', '5', '.'], ['Tính', 'diện_tích', 'hình_vuông']]\n"
     ]
    }
   ],
   "source": [
    "with VnCoreNLP (vn_core_file , annotators= 'wseg' , max_heap_size= '-Xmx4g' , quiet= False) as vncorenlp:\n",
    "    print('Tokenizing: ', vncorenlp.tokenize(sientences))"
   ]
  },
  {
   "cell_type": "code",
   "execution_count": 2,
   "metadata": {},
   "outputs": [
    {
     "data": {
      "text/plain": [
       "['cho tứ giác abcd có độ dài lần lượt là :',\n",
       " ' ab = 3',\n",
       " ' bc = 4',\n",
       " ' cd = 5 ',\n",
       " ' chu vi tứ giắc abcd = 15',\n",
       " ' tính đoạn thẳng ad']"
      ]
     },
     "execution_count": 2,
     "metadata": {},
     "output_type": "execute_result"
    }
   ],
   "source": [
    "from VnCoreNLP.sub import Summerize_Geometry\n",
    "import nltk\n",
    "\n",
    "vn_core_file = r'C:\\Users\\Hendrichs\\Desktop\\Representing_knowledge_of_geometry\\VnCoreNLP\\VnCoreNLP-1.1.1.jar'\n",
    "sentences = '''Cho tứ giác ABCD có độ dài lần lượt là :\n",
    "AB = 3\n",
    "BC = 4\n",
    "CD = 5 \n",
    "chu vi tứ giắc ABCD = 15. Tính đoạn thẳng AD\n",
    "'''\n",
    "sential = Summerize_Geometry.Preprocessing(sentences)\n",
    "sential"
   ]
  },
  {
   "cell_type": "code",
   "execution_count": 3,
   "metadata": {},
   "outputs": [
    {
     "data": {
      "text/plain": [
       "[['Cho',\n",
       "  'tứ_giác',\n",
       "  'ABCD',\n",
       "  'có',\n",
       "  'độ',\n",
       "  'dài',\n",
       "  'lần_lượt',\n",
       "  'là',\n",
       "  ':',\n",
       "  'AB',\n",
       "  '=',\n",
       "  '3',\n",
       "  'BC',\n",
       "  '=',\n",
       "  '4',\n",
       "  'CD',\n",
       "  '=',\n",
       "  '5',\n",
       "  'chu_vi',\n",
       "  'tứ',\n",
       "  'giắc',\n",
       "  'ABCD',\n",
       "  '=',\n",
       "  '15',\n",
       "  '.'],\n",
       " ['Tính', 'đoạn_thẳng', 'AD']]"
      ]
     },
     "execution_count": 3,
     "metadata": {},
     "output_type": "execute_result"
    }
   ],
   "source": [
    "vncorenlp = VnCoreNLP( vn_core_file , annotators= \"wseg\")\n",
    "sentences_tokenizer =  vncorenlp.tokenize(sentences)\n",
    "sentences_tokenizer"
   ]
  },
  {
   "cell_type": "code",
   "execution_count": 4,
   "metadata": {},
   "outputs": [
    {
     "data": {
      "text/plain": [
       "108"
      ]
     },
     "execution_count": 4,
     "metadata": {},
     "output_type": "execute_result"
    }
   ],
   "source": [
    "a = len(sentences)\n",
    "a"
   ]
  },
  {
   "cell_type": "code",
   "execution_count": 5,
   "metadata": {},
   "outputs": [
    {
     "data": {
      "text/plain": [
       "'Cho tứ giác ABCD có độ dài lần lượt là :\\nAB = 3\\nBC = 4\\nCD = 5 \\nchu vi tứ giắc ABCD = 15. Tính đoạn thẳng AD\\n'"
      ]
     },
     "execution_count": 5,
     "metadata": {},
     "output_type": "execute_result"
    }
   ],
   "source": [
    "sentences"
   ]
  },
  {
   "cell_type": "code",
   "execution_count": 6,
   "metadata": {},
   "outputs": [
    {
     "data": {
      "text/plain": [
       "['cho tứ giác abcd có độ dài lần lượt là :',\n",
       " ' ab = 3',\n",
       " ' bc = 4',\n",
       " ' cd = 5 ',\n",
       " ' chu vi tứ giắc abcd = 15',\n",
       " ' tính đoạn thẳng ad']"
      ]
     },
     "execution_count": 6,
     "metadata": {},
     "output_type": "execute_result"
    }
   ],
   "source": [
    "sentences = Summerize_Geometry.Preprocessing(sentences)\n",
    "sentences"
   ]
  },
  {
   "cell_type": "code",
   "execution_count": 7,
   "metadata": {},
   "outputs": [
    {
     "name": "stdout",
     "output_type": "stream",
     "text": [
      "Sentences 1 after summarize:  ['tứ', 'giác', 'abcd']\n",
      "Exspecial Language: tứ giác abcd\n",
      "Sentences 2 after summarize:  ['ab', '=', '3']\n",
      "Exspecial Language: ab = 3\n",
      "Sentences 3 after summarize:  ['bc', '=', '4']\n",
      "Exspecial Language: bc = 4\n",
      "Sentences 4 after summarize:  ['cd', '=', '5']\n",
      "Exspecial Language: cd = 5\n",
      "Sentences 5 after summarize:  ['chu', 'vi', 'tứ', 'giắc', 'abcd', '=', '15']\n",
      "Exspecial Language: chu vi tứ giắc abcd = 15\n",
      "Sentences 6 after summarize:  ['tính', 'ad']\n",
      "Exspecial Language: tính ad\n"
     ]
    }
   ],
   "source": [
    "new_word = []\n",
    "for i in range (len(sentences)):\n",
    "    a = Summerize_Geometry.sub_word(sentences[i])\n",
    "    print(\"Sentences %d after summarize: \" % int(i + 1), a)\n",
    "    print(\"Exspecial Language: \" + Summerize_Geometry.add_str(a))\n",
    "    new_word.append(Summerize_Geometry.add_str(a))"
   ]
  },
  {
   "cell_type": "code",
   "execution_count": 8,
   "metadata": {},
   "outputs": [
    {
     "data": {
      "text/plain": [
       "['tứ giác abcd',\n",
       " 'ab = 3',\n",
       " 'bc = 4',\n",
       " 'cd = 5',\n",
       " 'chu vi tứ giắc abcd = 15',\n",
       " 'tính ad']"
      ]
     },
     "execution_count": 8,
     "metadata": {},
     "output_type": "execute_result"
    }
   ],
   "source": [
    "new_word"
   ]
  },
  {
   "cell_type": "code",
   "execution_count": 9,
   "metadata": {},
   "outputs": [
    {
     "data": {
      "text/plain": [
       "['cho tứ giác abcd có độ dài lần lượt là :',\n",
       " ' ab = 3',\n",
       " ' bc = 4',\n",
       " ' cd = 5 ',\n",
       " ' chu vi tứ giắc abcd = 15',\n",
       " ' tính đoạn thẳng ad']"
      ]
     },
     "execution_count": 9,
     "metadata": {},
     "output_type": "execute_result"
    }
   ],
   "source": [
    "sentences"
   ]
  },
  {
   "cell_type": "code",
   "execution_count": 13,
   "metadata": {},
   "outputs": [
    {
     "name": "stdout",
     "output_type": "stream",
     "text": [
      "GIA THUYET: \n",
      "tứ giác abcd\n",
      "ab = 3\n",
      "bc = 4\n",
      "cd = 5\n",
      "chu vi tứ giắc abcd = 15\n",
      "KET LUAN: tính ad\n"
     ]
    }
   ],
   "source": [
    "Summerize_Geometry.print_out(new_word)"
   ]
  }
 ],
 "metadata": {
  "interpreter": {
   "hash": "aee8b7b246df8f9039afb4144a1f6fd8d2ca17a180786b69acc140d282b71a49"
  },
  "kernelspec": {
   "display_name": "Python 3.9.9 64-bit",
   "language": "python",
   "name": "python3"
  },
  "language_info": {
   "codemirror_mode": {
    "name": "ipython",
    "version": 3
   },
   "file_extension": ".py",
   "mimetype": "text/x-python",
   "name": "python",
   "nbconvert_exporter": "python",
   "pygments_lexer": "ipython3",
   "version": "3.9.0"
  },
  "orig_nbformat": 4
 },
 "nbformat": 4,
 "nbformat_minor": 2
}
