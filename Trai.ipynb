{
 "cells": [
  {
   "cell_type": "code",
   "execution_count": 2,
   "metadata": {},
   "outputs": [],
   "source": [
    "import logging\n",
    "from vncorenlp import VnCoreNLP"
   ]
  },
  {
   "cell_type": "code",
   "execution_count": 3,
   "metadata": {},
   "outputs": [
    {
     "name": "stdout",
     "output_type": "stream",
     "text": [
      "TK:  [['Cho', 'tam_giác', 'ABC', 'có', 'AB', '=', '4', ',', 'AC', '=', '6', ',', 'BC', '=', '10', '.'], ['Tính', 'diện_tích', 'tam_giác', 'ABC']]\n",
      "Pos Tag:  [[('Cho', 'E'), ('tam_giác', 'N'), ('ABC', 'Ny'), ('có', 'V'), ('AB', 'Ny'), ('=', 'CH'), ('4', 'M'), (',', 'CH'), ('AC', 'Ny'), ('=', 'CH'), ('6', 'M'), (',', 'CH'), ('BC', 'Ny'), ('=', 'CH'), ('10', 'M'), ('.', 'CH')], [('Tính', 'V'), ('diện_tích', 'N'), ('tam_giác', 'N'), ('ABC', 'Ny')]]\n",
      "Named-Entity Recognizing:  [[('Cho', 'O'), ('tam_giác', 'O'), ('ABC', 'B-ORG'), ('có', 'O'), ('AB', 'O'), ('=', 'O'), ('4', 'O'), (',', 'O'), ('AC', 'O'), ('=', 'O'), ('6', 'O'), (',', 'O'), ('BC', 'O'), ('=', 'O'), ('10', 'O'), ('.', 'O')], [('Tính', 'O'), ('diện_tích', 'O'), ('tam_giác', 'O'), ('ABC', 'B-ORG')]]\n",
      "Anounating:  {'sentences': [[{'index': 1, 'form': 'Cho', 'posTag': 'E', 'nerLabel': 'O', 'head': 4, 'depLabel': 'loc'}, {'index': 2, 'form': 'tam_giác', 'posTag': 'N', 'nerLabel': 'O', 'head': 1, 'depLabel': 'pob'}, {'index': 3, 'form': 'ABC', 'posTag': 'Ny', 'nerLabel': 'B-ORG', 'head': 2, 'depLabel': 'nmod'}, {'index': 4, 'form': 'có', 'posTag': 'V', 'nerLabel': 'O', 'head': 0, 'depLabel': 'root'}, {'index': 5, 'form': 'AB', 'posTag': 'Ny', 'nerLabel': 'O', 'head': 4, 'depLabel': 'dob'}, {'index': 6, 'form': '=', 'posTag': 'CH', 'nerLabel': 'O', 'head': 5, 'depLabel': 'punct'}, {'index': 7, 'form': '4', 'posTag': 'M', 'nerLabel': 'O', 'head': 5, 'depLabel': 'det'}, {'index': 8, 'form': ',', 'posTag': 'CH', 'nerLabel': 'O', 'head': 4, 'depLabel': 'punct'}, {'index': 9, 'form': 'AC', 'posTag': 'Ny', 'nerLabel': 'O', 'head': 5, 'depLabel': 'nmod'}, {'index': 10, 'form': '=', 'posTag': 'CH', 'nerLabel': 'O', 'head': 9, 'depLabel': 'punct'}, {'index': 11, 'form': '6', 'posTag': 'M', 'nerLabel': 'O', 'head': 9, 'depLabel': 'det'}, {'index': 12, 'form': ',', 'posTag': 'CH', 'nerLabel': 'O', 'head': 4, 'depLabel': 'punct'}, {'index': 13, 'form': 'BC', 'posTag': 'Ny', 'nerLabel': 'O', 'head': 9, 'depLabel': 'nmod'}, {'index': 14, 'form': '=', 'posTag': 'CH', 'nerLabel': 'O', 'head': 13, 'depLabel': 'punct'}, {'index': 15, 'form': '10', 'posTag': 'M', 'nerLabel': 'O', 'head': 13, 'depLabel': 'det'}, {'index': 16, 'form': '.', 'posTag': 'CH', 'nerLabel': 'O', 'head': 4, 'depLabel': 'punct'}], [{'index': 1, 'form': 'Tính', 'posTag': 'V', 'nerLabel': 'O', 'head': 0, 'depLabel': 'root'}, {'index': 2, 'form': 'diện_tích', 'posTag': 'N', 'nerLabel': 'O', 'head': 1, 'depLabel': 'dob'}, {'index': 3, 'form': 'tam_giác', 'posTag': 'N', 'nerLabel': 'O', 'head': 2, 'depLabel': 'nmod'}, {'index': 4, 'form': 'ABC', 'posTag': 'Ny', 'nerLabel': 'B-ORG', 'head': 3, 'depLabel': 'nmod'}]]}\n",
      "Language:  vi\n"
     ]
    }
   ],
   "source": [
    "def simple_usage():\n",
    "    \n",
    "    vn_core_file = r'/Users/hendrichscullen/Desktop/AI_Final/VnCoreNLP/VnCoreNLP-1.1.1.jar'\n",
    "    sentences = 'Cho tam giác ABC có AB = 4 , AC = 6 , BC = 10. Tính diện tích tam giác ABC'\n",
    "    with VnCoreNLP(vn_core_file) as vncorenlp:\n",
    "        print('TK: ', vncorenlp.tokenize(sentences))\n",
    "        print('Pos Tag: ', vncorenlp.pos_tag(sentences))\n",
    "        print('Named-Entity Recognizing: ', vncorenlp.ner(sentences))\n",
    "        print('Anounating: ', vncorenlp.annotate(sentences))\n",
    "        print('Language: ', vncorenlp.detect_language(sentences))\n",
    "\n",
    "simple_usage()"
   ]
  },
  {
   "cell_type": "code",
   "execution_count": 5,
   "metadata": {},
   "outputs": [
    {
     "name": "stdout",
     "output_type": "stream",
     "text": [
      "Tokenizing:  [['Cho', 'hình_vuông', 'ABCD', ',', 'có', 'AB', '=', '5', '.'], ['Tính', 'diện_tích', 'hình_vuông']]\n"
     ]
    }
   ],
   "source": [
    "vn_core_file = r'/Users/hendrichscullen/Desktop/AI_Final/VnCoreNLP/VnCoreNLP-1.1.1.jar'\n",
    "\n",
    "sientences = 'Cho hình vuông ABCD, có AB = 5. Tính diện tích hình vuông'\n",
    "\n",
    "with VnCoreNLP( vn_core_file , annotators= \"wseg\" , max_heap_size='-Xmx4g') as vncorenlp:\n",
    "    print(\"Tokenizing: \", vncorenlp.tokenize(sientences))"
   ]
  },
  {
   "cell_type": "code",
   "execution_count": 6,
   "metadata": {},
   "outputs": [
    {
     "name": "stdout",
     "output_type": "stream",
     "text": [
      "Tokenizing:  [['Cho', 'hình_vuông', 'ABCD', ',', 'có', 'AB', '=', '5', '.'], ['Tính', 'diện_tích', 'hình_vuông']]\n"
     ]
    }
   ],
   "source": [
    "with VnCoreNLP( vn_core_file , annotators= \"wseg\") as vncorenlp:\n",
    "    print(\"Tokenizing: \", vncorenlp.tokenize(sientences))"
   ]
  },
  {
   "cell_type": "code",
   "execution_count": 8,
   "metadata": {},
   "outputs": [
    {
     "name": "stdout",
     "output_type": "stream",
     "text": [
      "2022-01-06 17.37.09 INFO VnCoreNLPServer - Using annotators: wseg\n",
      "2022-01-06 17:37:09 INFO  WordSegmenter:24 - Loading Word Segmentation model\n",
      "2022-01-06 17.37.10 INFO VnCoreNLPServer - VnCoreNLPServer is listening on http://127.0.0.1:54833\n",
      "2022-01-06 17.37.10 INFO log - Logging initialized @663ms to org.eclipse.jetty.util.log.Slf4jLog\n",
      "2022-01-06 17.37.10 INFO EmbeddedJettyServer - == Spark has ignited ...\n",
      "2022-01-06 17.37.10 INFO EmbeddedJettyServer - >> Listening on 127.0.0.1:54833\n",
      "2022-01-06 17.37.10 INFO Server - jetty-9.4.z-SNAPSHOT, build timestamp: 2017-11-22T04:27:37+07:00, git hash: 82b8fb23f757335bb3329d540ce37a2a2615f0a8\n",
      "2022-01-06 17.37.10 INFO session - DefaultSessionIdManager workerName=node0\n",
      "2022-01-06 17.37.10 INFO session - No SessionScavenger set, using defaults\n",
      "2022-01-06 17.37.10 INFO session - Scavenging every 600000ms\n",
      "2022-01-06 17.37.10 INFO AbstractConnector - Started ServerConnector@62e0bf30{HTTP/1.1,[http/1.1]}{127.0.0.1:54833}\n",
      "2022-01-06 17.37.10 INFO Server - Started @800ms\n",
      "Tokenizing:  [['Cho', 'hình_vuông', 'ABCD', ',', 'có', 'AB', '=', '5', '.'], ['Tính', 'diện_tích', 'hình_vuông']]\n"
     ]
    }
   ],
   "source": [
    "with VnCoreNLP (vn_core_file , annotators= 'wseg' , max_heap_size= '-Xmx4g' , quiet= False) as vncorenlp:\n",
    "    print('Tokenizing: ', vncorenlp.tokenize(sientences))"
   ]
  },
  {
   "cell_type": "code",
   "execution_count": null,
   "metadata": {},
   "outputs": [],
   "source": [
    "with VnCoreNLP (vn_core_file) as vncorenlp:\n",
    "    \n"
   ]
  }
 ],
 "metadata": {
  "interpreter": {
   "hash": "aee8b7b246df8f9039afb4144a1f6fd8d2ca17a180786b69acc140d282b71a49"
  },
  "kernelspec": {
   "display_name": "Python 3.9.9 64-bit",
   "language": "python",
   "name": "python3"
  },
  "language_info": {
   "codemirror_mode": {
    "name": "ipython",
    "version": 3
   },
   "file_extension": ".py",
   "mimetype": "text/x-python",
   "name": "python",
   "nbconvert_exporter": "python",
   "pygments_lexer": "ipython3",
   "version": "3.9.9"
  },
  "orig_nbformat": 4
 },
 "nbformat": 4,
 "nbformat_minor": 2
}
